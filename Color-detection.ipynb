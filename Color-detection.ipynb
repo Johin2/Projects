{
 "cells": [
  {
   "cell_type": "code",
   "execution_count": 2,
   "id": "744a80c1-0b55-4833-8d91-2a5087dba616",
   "metadata": {},
   "outputs": [
    {
     "name": "stdout",
     "output_type": "stream",
     "text": [
      "Collecting OpenCV-python\n",
      "  Downloading opencv_python-4.8.0.74-cp37-abi3-win_amd64.whl (38.1 MB)\n",
      "     --------------------------------------- 38.1/38.1 MB 28.5 MB/s eta 0:00:00\n",
      "Requirement already satisfied: numpy>=1.17.0 in c:\\users\\johin\\anaconda3\\lib\\site-packages (from OpenCV-python) (1.23.5)\n",
      "Installing collected packages: OpenCV-python\n",
      "Successfully installed OpenCV-python-4.8.0.74\n"
     ]
    }
   ],
   "source": [
    "!pip install OpenCV-python"
   ]
  },
  {
   "cell_type": "code",
   "execution_count": 19,
   "id": "5b5c55e1-a6d7-4181-ad30-94e97c7ab7af",
   "metadata": {},
   "outputs": [],
   "source": [
    "import cv2\n",
    "import numpy as np\n",
    "import matplotlib.pyplot as plt\n",
    "from sklearn.cluster import KMeans\n",
    "\n",
    "def color_detection(image_path, k=10):\n",
    "    image = cv2.imread(image_path)\n",
    "    image_rgb = cv2.cvtColor(image, cv2.COLOR_BGR2RGB)\n",
    "    pixels = image_rgb.reshape(-1, 3)\n",
    "    kmeans = KMeans(n_clusters=k)\n",
    "    kmeans.fit(pixels)\n",
    "    dominant_colors = kmeans.cluster_centers_\n",
    "    \n",
    "    return dominant_colors.astype(int)"
   ]
  },
  {
   "cell_type": "code",
   "execution_count": 20,
   "id": "4cd46657-108a-4aa9-9352-a46a5e8d79a6",
   "metadata": {},
   "outputs": [],
   "source": [
    "def plot_colors(colors):\n",
    "    plt.figure(figsize=(8, 2))\n",
    "    for idx, color in enumerate(colors):\n",
    "        color_patch = np.zeros((100, 100, 3), dtype=np.uint8)\n",
    "        color_patch[:, :] = color\n",
    "        plt.subplot(1, len(colors), idx + 1)\n",
    "        plt.imshow(color_patch)\n",
    "        plt.axis('off')\n",
    "    plt.show()"
   ]
  },
  {
   "cell_type": "code",
   "execution_count": 21,
   "id": "fb280e8b-f3fe-4884-a09a-70e14fd28cba",
   "metadata": {},
   "outputs": [
    {
     "name": "stdin",
     "output_type": "stream",
     "text": [
      "Enter Image Path:  C:\\Users\\Johin\\Downloads\\My_pic2.jpeg\n"
     ]
    },
    {
     "name": "stderr",
     "output_type": "stream",
     "text": [
      "C:\\Users\\Johin\\anaconda3\\lib\\site-packages\\sklearn\\cluster\\_kmeans.py:870: FutureWarning: The default value of `n_init` will change from 10 to 'auto' in 1.4. Set the value of `n_init` explicitly to suppress the warning\n",
      "  warnings.warn(\n"
     ]
    },
    {
     "data": {
      "image/png": "[encoded data removed]",
      "text/plain": [
       "<Figure size 800x200 with 10 Axes>"
      ]
     },
     "metadata": {},
     "output_type": "display_data"
    }
   ],
   "source": [
    "image_path = input(\"Enter Image Path: \") \n",
    "k_value = 10\n",
    "dominant_colors = color_detection(image_path, k_value)\n",
    "plot_colors(dominant_colors)"
   ]
  },
  {
   "cell_type": "code",
   "execution_count": null,
   "id": "a2123fc6-ce15-4e44-8c1b-388523a7dc1e",
   "metadata": {},
   "outputs": [],
   "source": []
  }
 ],
 "metadata": {
  "kernelspec": {
   "display_name": "Python 3 (ipykernel)",
   "language": "python",
   "name": "python3"
  },
  "language_info": {
   "codemirror_mode": {
    "name": "ipython",
    "version": 3
   },
   "file_extension": ".py",
   "mimetype": "text/x-python",
   "name": "python",
   "nbconvert_exporter": "python",
   "pygments_lexer": "ipython3",
   "version": "3.10.9"
  }
 },
 "nbformat": 4,
 "nbformat_minor": 5
}
